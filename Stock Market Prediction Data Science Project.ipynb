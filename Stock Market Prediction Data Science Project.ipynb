{
 "cells": [
  {
   "cell_type": "markdown",
   "id": "ee5f18d8",
   "metadata": {},
   "source": [
    "## Stock Market Prediction Using Linear Regression"
   ]
  },
  {
   "cell_type": "markdown",
   "id": "95aed959",
   "metadata": {},
   "source": [
    "### Importing Packages"
   ]
  },
  {
   "cell_type": "code",
   "execution_count": 67,
   "id": "e7dc0ffb",
   "metadata": {},
   "outputs": [],
   "source": [
    "import pandas as pd\n",
    "import matplotlib.pyplot as plt\n",
    "import seaborn as sns"
   ]
  },
  {
   "cell_type": "markdown",
   "id": "3712436b",
   "metadata": {},
   "source": [
    "### reading data"
   ]
  },
  {
   "cell_type": "code",
   "execution_count": 4,
   "id": "79d4cda2",
   "metadata": {},
   "outputs": [],
   "source": [
    "data=pd.read_csv(r'C:\\Data Sets\\NFLX.csv')\n"
   ]
  },
  {
   "cell_type": "code",
   "execution_count": 5,
   "id": "73d2bf0e",
   "metadata": {},
   "outputs": [
    {
     "data": {
      "text/html": [
       "<div>\n",
       "<style scoped>\n",
       "    .dataframe tbody tr th:only-of-type {\n",
       "        vertical-align: middle;\n",
       "    }\n",
       "\n",
       "    .dataframe tbody tr th {\n",
       "        vertical-align: top;\n",
       "    }\n",
       "\n",
       "    .dataframe thead th {\n",
       "        text-align: right;\n",
       "    }\n",
       "</style>\n",
       "<table border=\"1\" class=\"dataframe\">\n",
       "  <thead>\n",
       "    <tr style=\"text-align: right;\">\n",
       "      <th></th>\n",
       "      <th>Date</th>\n",
       "      <th>Open</th>\n",
       "      <th>High</th>\n",
       "      <th>Low</th>\n",
       "      <th>Close</th>\n",
       "      <th>Volume</th>\n",
       "    </tr>\n",
       "  </thead>\n",
       "  <tbody>\n",
       "    <tr>\n",
       "      <th>0</th>\n",
       "      <td>05-02-2018</td>\n",
       "      <td>262.000000</td>\n",
       "      <td>267.899994</td>\n",
       "      <td>250.029999</td>\n",
       "      <td>254.259995</td>\n",
       "      <td>11896100</td>\n",
       "    </tr>\n",
       "    <tr>\n",
       "      <th>1</th>\n",
       "      <td>06-02-2018</td>\n",
       "      <td>247.699997</td>\n",
       "      <td>266.700012</td>\n",
       "      <td>245.000000</td>\n",
       "      <td>265.720001</td>\n",
       "      <td>12595800</td>\n",
       "    </tr>\n",
       "    <tr>\n",
       "      <th>2</th>\n",
       "      <td>07-02-2018</td>\n",
       "      <td>266.579987</td>\n",
       "      <td>272.450012</td>\n",
       "      <td>264.329987</td>\n",
       "      <td>264.559998</td>\n",
       "      <td>8981500</td>\n",
       "    </tr>\n",
       "    <tr>\n",
       "      <th>3</th>\n",
       "      <td>08-02-2018</td>\n",
       "      <td>267.079987</td>\n",
       "      <td>267.619995</td>\n",
       "      <td>250.000000</td>\n",
       "      <td>250.100006</td>\n",
       "      <td>9306700</td>\n",
       "    </tr>\n",
       "    <tr>\n",
       "      <th>4</th>\n",
       "      <td>09-02-2018</td>\n",
       "      <td>253.850006</td>\n",
       "      <td>255.800003</td>\n",
       "      <td>236.110001</td>\n",
       "      <td>249.470001</td>\n",
       "      <td>16906900</td>\n",
       "    </tr>\n",
       "    <tr>\n",
       "      <th>...</th>\n",
       "      <td>...</td>\n",
       "      <td>...</td>\n",
       "      <td>...</td>\n",
       "      <td>...</td>\n",
       "      <td>...</td>\n",
       "      <td>...</td>\n",
       "    </tr>\n",
       "    <tr>\n",
       "      <th>1004</th>\n",
       "      <td>31-01-2022</td>\n",
       "      <td>401.970001</td>\n",
       "      <td>427.700012</td>\n",
       "      <td>398.200012</td>\n",
       "      <td>427.140015</td>\n",
       "      <td>20047500</td>\n",
       "    </tr>\n",
       "    <tr>\n",
       "      <th>1005</th>\n",
       "      <td>01-02-2022</td>\n",
       "      <td>432.959991</td>\n",
       "      <td>458.480011</td>\n",
       "      <td>425.540009</td>\n",
       "      <td>457.130005</td>\n",
       "      <td>22542300</td>\n",
       "    </tr>\n",
       "    <tr>\n",
       "      <th>1006</th>\n",
       "      <td>02-02-2022</td>\n",
       "      <td>448.250000</td>\n",
       "      <td>451.980011</td>\n",
       "      <td>426.480011</td>\n",
       "      <td>429.480011</td>\n",
       "      <td>14346000</td>\n",
       "    </tr>\n",
       "    <tr>\n",
       "      <th>1007</th>\n",
       "      <td>03-02-2022</td>\n",
       "      <td>421.440002</td>\n",
       "      <td>429.260010</td>\n",
       "      <td>404.279999</td>\n",
       "      <td>405.600006</td>\n",
       "      <td>9905200</td>\n",
       "    </tr>\n",
       "    <tr>\n",
       "      <th>1008</th>\n",
       "      <td>04-02-2022</td>\n",
       "      <td>407.309998</td>\n",
       "      <td>412.769989</td>\n",
       "      <td>396.640015</td>\n",
       "      <td>410.170013</td>\n",
       "      <td>7782400</td>\n",
       "    </tr>\n",
       "  </tbody>\n",
       "</table>\n",
       "<p>1009 rows × 6 columns</p>\n",
       "</div>"
      ],
      "text/plain": [
       "            Date        Open        High         Low       Close    Volume\n",
       "0     05-02-2018  262.000000  267.899994  250.029999  254.259995  11896100\n",
       "1     06-02-2018  247.699997  266.700012  245.000000  265.720001  12595800\n",
       "2     07-02-2018  266.579987  272.450012  264.329987  264.559998   8981500\n",
       "3     08-02-2018  267.079987  267.619995  250.000000  250.100006   9306700\n",
       "4     09-02-2018  253.850006  255.800003  236.110001  249.470001  16906900\n",
       "...          ...         ...         ...         ...         ...       ...\n",
       "1004  31-01-2022  401.970001  427.700012  398.200012  427.140015  20047500\n",
       "1005  01-02-2022  432.959991  458.480011  425.540009  457.130005  22542300\n",
       "1006  02-02-2022  448.250000  451.980011  426.480011  429.480011  14346000\n",
       "1007  03-02-2022  421.440002  429.260010  404.279999  405.600006   9905200\n",
       "1008  04-02-2022  407.309998  412.769989  396.640015  410.170013   7782400\n",
       "\n",
       "[1009 rows x 6 columns]"
      ]
     },
     "execution_count": 5,
     "metadata": {},
     "output_type": "execute_result"
    }
   ],
   "source": [
    "data"
   ]
  },
  {
   "cell_type": "code",
   "execution_count": 6,
   "id": "c57fc452",
   "metadata": {},
   "outputs": [
    {
     "data": {
      "text/html": [
       "<div>\n",
       "<style scoped>\n",
       "    .dataframe tbody tr th:only-of-type {\n",
       "        vertical-align: middle;\n",
       "    }\n",
       "\n",
       "    .dataframe tbody tr th {\n",
       "        vertical-align: top;\n",
       "    }\n",
       "\n",
       "    .dataframe thead th {\n",
       "        text-align: right;\n",
       "    }\n",
       "</style>\n",
       "<table border=\"1\" class=\"dataframe\">\n",
       "  <thead>\n",
       "    <tr style=\"text-align: right;\">\n",
       "      <th></th>\n",
       "      <th>Date</th>\n",
       "      <th>Open</th>\n",
       "      <th>High</th>\n",
       "      <th>Low</th>\n",
       "      <th>Close</th>\n",
       "      <th>Volume</th>\n",
       "    </tr>\n",
       "  </thead>\n",
       "  <tbody>\n",
       "    <tr>\n",
       "      <th>0</th>\n",
       "      <td>05-02-2018</td>\n",
       "      <td>262.000000</td>\n",
       "      <td>267.899994</td>\n",
       "      <td>250.029999</td>\n",
       "      <td>254.259995</td>\n",
       "      <td>11896100</td>\n",
       "    </tr>\n",
       "    <tr>\n",
       "      <th>1</th>\n",
       "      <td>06-02-2018</td>\n",
       "      <td>247.699997</td>\n",
       "      <td>266.700012</td>\n",
       "      <td>245.000000</td>\n",
       "      <td>265.720001</td>\n",
       "      <td>12595800</td>\n",
       "    </tr>\n",
       "    <tr>\n",
       "      <th>2</th>\n",
       "      <td>07-02-2018</td>\n",
       "      <td>266.579987</td>\n",
       "      <td>272.450012</td>\n",
       "      <td>264.329987</td>\n",
       "      <td>264.559998</td>\n",
       "      <td>8981500</td>\n",
       "    </tr>\n",
       "    <tr>\n",
       "      <th>3</th>\n",
       "      <td>08-02-2018</td>\n",
       "      <td>267.079987</td>\n",
       "      <td>267.619995</td>\n",
       "      <td>250.000000</td>\n",
       "      <td>250.100006</td>\n",
       "      <td>9306700</td>\n",
       "    </tr>\n",
       "    <tr>\n",
       "      <th>4</th>\n",
       "      <td>09-02-2018</td>\n",
       "      <td>253.850006</td>\n",
       "      <td>255.800003</td>\n",
       "      <td>236.110001</td>\n",
       "      <td>249.470001</td>\n",
       "      <td>16906900</td>\n",
       "    </tr>\n",
       "  </tbody>\n",
       "</table>\n",
       "</div>"
      ],
      "text/plain": [
       "         Date        Open        High         Low       Close    Volume\n",
       "0  05-02-2018  262.000000  267.899994  250.029999  254.259995  11896100\n",
       "1  06-02-2018  247.699997  266.700012  245.000000  265.720001  12595800\n",
       "2  07-02-2018  266.579987  272.450012  264.329987  264.559998   8981500\n",
       "3  08-02-2018  267.079987  267.619995  250.000000  250.100006   9306700\n",
       "4  09-02-2018  253.850006  255.800003  236.110001  249.470001  16906900"
      ]
     },
     "execution_count": 6,
     "metadata": {},
     "output_type": "execute_result"
    }
   ],
   "source": [
    "data.head()"
   ]
  },
  {
   "cell_type": "code",
   "execution_count": 7,
   "id": "ffad90d1",
   "metadata": {},
   "outputs": [
    {
     "data": {
      "text/plain": [
       "Date      0\n",
       "Open      0\n",
       "High      0\n",
       "Low       0\n",
       "Close     0\n",
       "Volume    0\n",
       "dtype: int64"
      ]
     },
     "execution_count": 7,
     "metadata": {},
     "output_type": "execute_result"
    }
   ],
   "source": [
    "data.isnull().sum()"
   ]
  },
  {
   "cell_type": "code",
   "execution_count": 23,
   "id": "9626f6ff",
   "metadata": {},
   "outputs": [
    {
     "data": {
      "text/html": [
       "<div>\n",
       "<style scoped>\n",
       "    .dataframe tbody tr th:only-of-type {\n",
       "        vertical-align: middle;\n",
       "    }\n",
       "\n",
       "    .dataframe tbody tr th {\n",
       "        vertical-align: top;\n",
       "    }\n",
       "\n",
       "    .dataframe thead th {\n",
       "        text-align: right;\n",
       "    }\n",
       "</style>\n",
       "<table border=\"1\" class=\"dataframe\">\n",
       "  <thead>\n",
       "    <tr style=\"text-align: right;\">\n",
       "      <th></th>\n",
       "      <th>Date</th>\n",
       "      <th>Open</th>\n",
       "      <th>High</th>\n",
       "      <th>Low</th>\n",
       "      <th>Close</th>\n",
       "      <th>Volume</th>\n",
       "    </tr>\n",
       "  </thead>\n",
       "  <tbody>\n",
       "    <tr>\n",
       "      <th>0</th>\n",
       "      <td>05-02-2018</td>\n",
       "      <td>262.000000</td>\n",
       "      <td>267.899994</td>\n",
       "      <td>250.029999</td>\n",
       "      <td>254.259995</td>\n",
       "      <td>11896100</td>\n",
       "    </tr>\n",
       "    <tr>\n",
       "      <th>1</th>\n",
       "      <td>06-02-2018</td>\n",
       "      <td>247.699997</td>\n",
       "      <td>266.700012</td>\n",
       "      <td>245.000000</td>\n",
       "      <td>265.720001</td>\n",
       "      <td>12595800</td>\n",
       "    </tr>\n",
       "    <tr>\n",
       "      <th>2</th>\n",
       "      <td>07-02-2018</td>\n",
       "      <td>266.579987</td>\n",
       "      <td>272.450012</td>\n",
       "      <td>264.329987</td>\n",
       "      <td>264.559998</td>\n",
       "      <td>8981500</td>\n",
       "    </tr>\n",
       "    <tr>\n",
       "      <th>3</th>\n",
       "      <td>08-02-2018</td>\n",
       "      <td>267.079987</td>\n",
       "      <td>267.619995</td>\n",
       "      <td>250.000000</td>\n",
       "      <td>250.100006</td>\n",
       "      <td>9306700</td>\n",
       "    </tr>\n",
       "    <tr>\n",
       "      <th>4</th>\n",
       "      <td>09-02-2018</td>\n",
       "      <td>253.850006</td>\n",
       "      <td>255.800003</td>\n",
       "      <td>236.110001</td>\n",
       "      <td>249.470001</td>\n",
       "      <td>16906900</td>\n",
       "    </tr>\n",
       "    <tr>\n",
       "      <th>...</th>\n",
       "      <td>...</td>\n",
       "      <td>...</td>\n",
       "      <td>...</td>\n",
       "      <td>...</td>\n",
       "      <td>...</td>\n",
       "      <td>...</td>\n",
       "    </tr>\n",
       "    <tr>\n",
       "      <th>1004</th>\n",
       "      <td>31-01-2022</td>\n",
       "      <td>401.970001</td>\n",
       "      <td>427.700012</td>\n",
       "      <td>398.200012</td>\n",
       "      <td>427.140015</td>\n",
       "      <td>20047500</td>\n",
       "    </tr>\n",
       "    <tr>\n",
       "      <th>1005</th>\n",
       "      <td>01-02-2022</td>\n",
       "      <td>432.959991</td>\n",
       "      <td>458.480011</td>\n",
       "      <td>425.540009</td>\n",
       "      <td>457.130005</td>\n",
       "      <td>22542300</td>\n",
       "    </tr>\n",
       "    <tr>\n",
       "      <th>1006</th>\n",
       "      <td>02-02-2022</td>\n",
       "      <td>448.250000</td>\n",
       "      <td>451.980011</td>\n",
       "      <td>426.480011</td>\n",
       "      <td>429.480011</td>\n",
       "      <td>14346000</td>\n",
       "    </tr>\n",
       "    <tr>\n",
       "      <th>1007</th>\n",
       "      <td>03-02-2022</td>\n",
       "      <td>421.440002</td>\n",
       "      <td>429.260010</td>\n",
       "      <td>404.279999</td>\n",
       "      <td>405.600006</td>\n",
       "      <td>9905200</td>\n",
       "    </tr>\n",
       "    <tr>\n",
       "      <th>1008</th>\n",
       "      <td>04-02-2022</td>\n",
       "      <td>407.309998</td>\n",
       "      <td>412.769989</td>\n",
       "      <td>396.640015</td>\n",
       "      <td>410.170013</td>\n",
       "      <td>7782400</td>\n",
       "    </tr>\n",
       "  </tbody>\n",
       "</table>\n",
       "<p>1009 rows × 6 columns</p>\n",
       "</div>"
      ],
      "text/plain": [
       "            Date        Open        High         Low       Close    Volume\n",
       "0     05-02-2018  262.000000  267.899994  250.029999  254.259995  11896100\n",
       "1     06-02-2018  247.699997  266.700012  245.000000  265.720001  12595800\n",
       "2     07-02-2018  266.579987  272.450012  264.329987  264.559998   8981500\n",
       "3     08-02-2018  267.079987  267.619995  250.000000  250.100006   9306700\n",
       "4     09-02-2018  253.850006  255.800003  236.110001  249.470001  16906900\n",
       "...          ...         ...         ...         ...         ...       ...\n",
       "1004  31-01-2022  401.970001  427.700012  398.200012  427.140015  20047500\n",
       "1005  01-02-2022  432.959991  458.480011  425.540009  457.130005  22542300\n",
       "1006  02-02-2022  448.250000  451.980011  426.480011  429.480011  14346000\n",
       "1007  03-02-2022  421.440002  429.260010  404.279999  405.600006   9905200\n",
       "1008  04-02-2022  407.309998  412.769989  396.640015  410.170013   7782400\n",
       "\n",
       "[1009 rows x 6 columns]"
      ]
     },
     "execution_count": 23,
     "metadata": {},
     "output_type": "execute_result"
    }
   ],
   "source": [
    "data"
   ]
  },
  {
   "cell_type": "code",
   "execution_count": 24,
   "id": "f19995cb",
   "metadata": {},
   "outputs": [
    {
     "data": {
      "text/plain": [
       "(1009, 6)"
      ]
     },
     "execution_count": 24,
     "metadata": {},
     "output_type": "execute_result"
    }
   ],
   "source": [
    "data.shape"
   ]
  },
  {
   "cell_type": "markdown",
   "id": "e59b1467",
   "metadata": {},
   "source": [
    "### Data Visualizations for the data"
   ]
  },
  {
   "cell_type": "code",
   "execution_count": 33,
   "id": "2bd85660",
   "metadata": {},
   "outputs": [
    {
     "data": {
      "image/png": "[encoded data removed]",
      "text/plain": [
       "<Figure size 576x432 with 1 Axes>"
      ]
     },
     "metadata": {
      "needs_background": "light"
     },
     "output_type": "display_data"
    }
   ],
   "source": [
    "plt.figure(figsize=(8,6))\n",
    "plt.plot(data['Date'], data['Close'])\n",
    "plt.xlabel('Date'),\n",
    "plt.ylabel('Closing Price')\n",
    "plt.title('Stock Closing Price Over Time')\n",
    "plt.show()"
   ]
  },
  {
   "cell_type": "code",
   "execution_count": 54,
   "id": "bc34ea85",
   "metadata": {},
   "outputs": [
    {
     "data": {
      "image/png": "[encoded data removed]",
      "text/plain": [
       "<Figure size 432x288 with 1 Axes>"
      ]
     },
     "metadata": {
      "needs_background": "light"
     },
     "output_type": "display_data"
    }
   ],
   "source": [
    "plt.hist(data['Volume'],bins=20)\n",
    "plt.xlabel('Volume')\n",
    "plt.ylabel('Frequency')\n",
    "plt.title('Volume Distribution')\n",
    "plt.show()"
   ]
  },
  {
   "cell_type": "code",
   "execution_count": 62,
   "id": "f8ba5b4a",
   "metadata": {},
   "outputs": [
    {
     "data": {
      "image/png": "[encoded data removed]",
      "text/plain": [
       "<Figure size 432x288 with 1 Axes>"
      ]
     },
     "metadata": {
      "needs_background": "light"
     },
     "output_type": "display_data"
    }
   ],
   "source": [
    "plt.scatter(data['Close'],data['Volume'],c='#FF00FF')\n",
    "plt.xlabel('Close Pricing')\n",
    "plt.ylabel('Volume')\n",
    "plt.title('Çlosing Price vs Volume')\n",
    "plt.show()"
   ]
  },
  {
   "cell_type": "code",
   "execution_count": 66,
   "id": "6236b472",
   "metadata": {},
   "outputs": [
    {
     "data": {
      "image/png": "[encoded data removed]",
      "text/plain": [
       "<Figure size 432x288 with 1 Axes>"
      ]
     },
     "metadata": {
      "needs_background": "light"
     },
     "output_type": "display_data"
    }
   ],
   "source": [
    "plt.bar(data['Date'], data['Volume'], color=['g' if c > o else 'r' for c, o in zip(data['Close'], data['Open'])])\n",
    "plt.xlabel('Date')\n",
    "plt.ylabel('Volume')\n",
    "plt.title('Volume Bars')\n",
    "plt.xticks(rotation=45)\n",
    "plt.show()"
   ]
  },
  {
   "cell_type": "markdown",
   "id": "2015d931",
   "metadata": {},
   "source": [
    "### Split the data into train and test data"
   ]
  },
  {
   "cell_type": "code",
   "execution_count": 10,
   "id": "a61fabfa",
   "metadata": {},
   "outputs": [
    {
     "name": "stdout",
     "output_type": "stream",
     "text": [
      "Shape of X_train: (807, 4)\n",
      "Shape of X_test: (202, 4)\n",
      "Shape of y_train: (807,)\n",
      "Shape of y_test: (202,)\n"
     ]
    }
   ],
   "source": [
    "from sklearn.model_selection import train_test_split as tts\n",
    "X = data[['Open', 'High', 'Low', 'Volume']]\n",
    "y = data['Close']\n",
    "X_train, X_test, y_train, y_test = tts(X, y, test_size=0.2, random_state=42)\n",
    "print(\"Shape of X_train:\", X_train.shape)\n",
    "print(\"Shape of X_test:\", X_test.shape)\n",
    "print(\"Shape of y_train:\", y_train.shape)\n",
    "print(\"Shape of y_test:\", y_test.shape)"
   ]
  },
  {
   "cell_type": "code",
   "execution_count": 11,
   "id": "a614f7fc",
   "metadata": {},
   "outputs": [
    {
     "data": {
      "text/html": [
       "<div>\n",
       "<style scoped>\n",
       "    .dataframe tbody tr th:only-of-type {\n",
       "        vertical-align: middle;\n",
       "    }\n",
       "\n",
       "    .dataframe tbody tr th {\n",
       "        vertical-align: top;\n",
       "    }\n",
       "\n",
       "    .dataframe thead th {\n",
       "        text-align: right;\n",
       "    }\n",
       "</style>\n",
       "<table border=\"1\" class=\"dataframe\">\n",
       "  <thead>\n",
       "    <tr style=\"text-align: right;\">\n",
       "      <th></th>\n",
       "      <th>Open</th>\n",
       "      <th>High</th>\n",
       "      <th>Low</th>\n",
       "      <th>Volume</th>\n",
       "    </tr>\n",
       "  </thead>\n",
       "  <tbody>\n",
       "    <tr>\n",
       "      <th>29</th>\n",
       "      <td>315.799988</td>\n",
       "      <td>317.000000</td>\n",
       "      <td>307.339996</td>\n",
       "      <td>9925200</td>\n",
       "    </tr>\n",
       "    <tr>\n",
       "      <th>280</th>\n",
       "      <td>366.399994</td>\n",
       "      <td>366.959991</td>\n",
       "      <td>356.799988</td>\n",
       "      <td>7541400</td>\n",
       "    </tr>\n",
       "    <tr>\n",
       "      <th>507</th>\n",
       "      <td>373.750000</td>\n",
       "      <td>378.109985</td>\n",
       "      <td>369.720001</td>\n",
       "      <td>4772900</td>\n",
       "    </tr>\n",
       "    <tr>\n",
       "      <th>706</th>\n",
       "      <td>490.459991</td>\n",
       "      <td>491.149994</td>\n",
       "      <td>475.839996</td>\n",
       "      <td>5416600</td>\n",
       "    </tr>\n",
       "    <tr>\n",
       "      <th>877</th>\n",
       "      <td>512.690002</td>\n",
       "      <td>519.789978</td>\n",
       "      <td>510.959991</td>\n",
       "      <td>2534900</td>\n",
       "    </tr>\n",
       "    <tr>\n",
       "      <th>...</th>\n",
       "      <td>...</td>\n",
       "      <td>...</td>\n",
       "      <td>...</td>\n",
       "      <td>...</td>\n",
       "    </tr>\n",
       "    <tr>\n",
       "      <th>106</th>\n",
       "      <td>415.950012</td>\n",
       "      <td>419.119995</td>\n",
       "      <td>411.100006</td>\n",
       "      <td>11127500</td>\n",
       "    </tr>\n",
       "    <tr>\n",
       "      <th>270</th>\n",
       "      <td>351.459991</td>\n",
       "      <td>356.170013</td>\n",
       "      <td>348.250000</td>\n",
       "      <td>5937800</td>\n",
       "    </tr>\n",
       "    <tr>\n",
       "      <th>860</th>\n",
       "      <td>544.239990</td>\n",
       "      <td>544.640015</td>\n",
       "      <td>531.659973</td>\n",
       "      <td>2722500</td>\n",
       "    </tr>\n",
       "    <tr>\n",
       "      <th>435</th>\n",
       "      <td>278.049988</td>\n",
       "      <td>285.750000</td>\n",
       "      <td>277.350006</td>\n",
       "      <td>6248400</td>\n",
       "    </tr>\n",
       "    <tr>\n",
       "      <th>102</th>\n",
       "      <td>385.450012</td>\n",
       "      <td>398.380005</td>\n",
       "      <td>380.000000</td>\n",
       "      <td>8142500</td>\n",
       "    </tr>\n",
       "  </tbody>\n",
       "</table>\n",
       "<p>807 rows × 4 columns</p>\n",
       "</div>"
      ],
      "text/plain": [
       "           Open        High         Low    Volume\n",
       "29   315.799988  317.000000  307.339996   9925200\n",
       "280  366.399994  366.959991  356.799988   7541400\n",
       "507  373.750000  378.109985  369.720001   4772900\n",
       "706  490.459991  491.149994  475.839996   5416600\n",
       "877  512.690002  519.789978  510.959991   2534900\n",
       "..          ...         ...         ...       ...\n",
       "106  415.950012  419.119995  411.100006  11127500\n",
       "270  351.459991  356.170013  348.250000   5937800\n",
       "860  544.239990  544.640015  531.659973   2722500\n",
       "435  278.049988  285.750000  277.350006   6248400\n",
       "102  385.450012  398.380005  380.000000   8142500\n",
       "\n",
       "[807 rows x 4 columns]"
      ]
     },
     "execution_count": 11,
     "metadata": {},
     "output_type": "execute_result"
    }
   ],
   "source": [
    "X_train"
   ]
  },
  {
   "cell_type": "code",
   "execution_count": 12,
   "id": "de3aa345",
   "metadata": {},
   "outputs": [
    {
     "data": {
      "text/html": [
       "<div>\n",
       "<style scoped>\n",
       "    .dataframe tbody tr th:only-of-type {\n",
       "        vertical-align: middle;\n",
       "    }\n",
       "\n",
       "    .dataframe tbody tr th {\n",
       "        vertical-align: top;\n",
       "    }\n",
       "\n",
       "    .dataframe thead th {\n",
       "        text-align: right;\n",
       "    }\n",
       "</style>\n",
       "<table border=\"1\" class=\"dataframe\">\n",
       "  <thead>\n",
       "    <tr style=\"text-align: right;\">\n",
       "      <th></th>\n",
       "      <th>Open</th>\n",
       "      <th>High</th>\n",
       "      <th>Low</th>\n",
       "      <th>Volume</th>\n",
       "    </tr>\n",
       "  </thead>\n",
       "  <tbody>\n",
       "    <tr>\n",
       "      <th>628</th>\n",
       "      <td>498.649994</td>\n",
       "      <td>510.440002</td>\n",
       "      <td>498.649994</td>\n",
       "      <td>5608000</td>\n",
       "    </tr>\n",
       "    <tr>\n",
       "      <th>631</th>\n",
       "      <td>505.450012</td>\n",
       "      <td>508.290009</td>\n",
       "      <td>486.679993</td>\n",
       "      <td>5910300</td>\n",
       "    </tr>\n",
       "    <tr>\n",
       "      <th>741</th>\n",
       "      <td>507.350006</td>\n",
       "      <td>514.500000</td>\n",
       "      <td>499.579987</td>\n",
       "      <td>4177400</td>\n",
       "    </tr>\n",
       "    <tr>\n",
       "      <th>514</th>\n",
       "      <td>385.329987</td>\n",
       "      <td>387.320007</td>\n",
       "      <td>377.899994</td>\n",
       "      <td>3930100</td>\n",
       "    </tr>\n",
       "    <tr>\n",
       "      <th>365</th>\n",
       "      <td>323.399994</td>\n",
       "      <td>325.850006</td>\n",
       "      <td>314.230011</td>\n",
       "      <td>16302500</td>\n",
       "    </tr>\n",
       "    <tr>\n",
       "      <th>...</th>\n",
       "      <td>...</td>\n",
       "      <td>...</td>\n",
       "      <td>...</td>\n",
       "      <td>...</td>\n",
       "    </tr>\n",
       "    <tr>\n",
       "      <th>780</th>\n",
       "      <td>512.500000</td>\n",
       "      <td>526.510010</td>\n",
       "      <td>506.589996</td>\n",
       "      <td>3981700</td>\n",
       "    </tr>\n",
       "    <tr>\n",
       "      <th>334</th>\n",
       "      <td>354.380005</td>\n",
       "      <td>357.880005</td>\n",
       "      <td>348.709991</td>\n",
       "      <td>5020100</td>\n",
       "    </tr>\n",
       "    <tr>\n",
       "      <th>210</th>\n",
       "      <td>288.130005</td>\n",
       "      <td>295.739990</td>\n",
       "      <td>274.720001</td>\n",
       "      <td>12800600</td>\n",
       "    </tr>\n",
       "    <tr>\n",
       "      <th>350</th>\n",
       "      <td>363.200012</td>\n",
       "      <td>370.850006</td>\n",
       "      <td>363.200012</td>\n",
       "      <td>4138600</td>\n",
       "    </tr>\n",
       "    <tr>\n",
       "      <th>78</th>\n",
       "      <td>351.500000</td>\n",
       "      <td>356.100006</td>\n",
       "      <td>346.709991</td>\n",
       "      <td>9717900</td>\n",
       "    </tr>\n",
       "  </tbody>\n",
       "</table>\n",
       "<p>202 rows × 4 columns</p>\n",
       "</div>"
      ],
      "text/plain": [
       "           Open        High         Low    Volume\n",
       "628  498.649994  510.440002  498.649994   5608000\n",
       "631  505.450012  508.290009  486.679993   5910300\n",
       "741  507.350006  514.500000  499.579987   4177400\n",
       "514  385.329987  387.320007  377.899994   3930100\n",
       "365  323.399994  325.850006  314.230011  16302500\n",
       "..          ...         ...         ...       ...\n",
       "780  512.500000  526.510010  506.589996   3981700\n",
       "334  354.380005  357.880005  348.709991   5020100\n",
       "210  288.130005  295.739990  274.720001  12800600\n",
       "350  363.200012  370.850006  363.200012   4138600\n",
       "78   351.500000  356.100006  346.709991   9717900\n",
       "\n",
       "[202 rows x 4 columns]"
      ]
     },
     "execution_count": 12,
     "metadata": {},
     "output_type": "execute_result"
    }
   ],
   "source": [
    "X_test"
   ]
  },
  {
   "cell_type": "code",
   "execution_count": 13,
   "id": "93357616",
   "metadata": {},
   "outputs": [
    {
     "data": {
      "text/plain": [
       "29     313.480011\n",
       "280    358.779999\n",
       "507    373.690002\n",
       "706    476.619995\n",
       "877    517.570007\n",
       "          ...    \n",
       "106    418.970001\n",
       "270    354.299988\n",
       "860    535.960022\n",
       "435    281.859985\n",
       "102    398.179993\n",
       "Name: Close, Length: 807, dtype: float64"
      ]
     },
     "execution_count": 13,
     "metadata": {},
     "output_type": "execute_result"
    }
   ],
   "source": [
    "y_train"
   ]
  },
  {
   "cell_type": "code",
   "execution_count": 14,
   "id": "49d67c47",
   "metadata": {},
   "outputs": [
    {
     "data": {
      "text/plain": [
       "628    509.640015\n",
       "631    494.730011\n",
       "741    500.859985\n",
       "514    380.070007\n",
       "365    315.100006\n",
       "          ...    \n",
       "780    518.020020\n",
       "334    355.730011\n",
       "210    275.329987\n",
       "350    370.019989\n",
       "78     349.730011\n",
       "Name: Close, Length: 202, dtype: float64"
      ]
     },
     "execution_count": 14,
     "metadata": {},
     "output_type": "execute_result"
    }
   ],
   "source": [
    "y_test"
   ]
  },
  {
   "cell_type": "markdown",
   "id": "ef4a89a6",
   "metadata": {},
   "source": [
    "### define the model"
   ]
  },
  {
   "cell_type": "code",
   "execution_count": 15,
   "id": "88069c57",
   "metadata": {},
   "outputs": [],
   "source": [
    "from sklearn.linear_model import LinearRegression as lr"
   ]
  },
  {
   "cell_type": "markdown",
   "id": "aa62da34",
   "metadata": {},
   "source": [
    "### train the linear regression model using training data"
   ]
  },
  {
   "cell_type": "code",
   "execution_count": 16,
   "id": "81fb232e",
   "metadata": {},
   "outputs": [
    {
     "data": {
      "text/plain": [
       "LinearRegression()"
      ]
     },
     "execution_count": 16,
     "metadata": {},
     "output_type": "execute_result"
    }
   ],
   "source": [
    "linreg=lr()\n",
    "linreg.fit(X_train,y_train)"
   ]
  },
  {
   "cell_type": "markdown",
   "id": "47dcb309",
   "metadata": {},
   "source": [
    "### predict the output for the test data using the fitted model"
   ]
  },
  {
   "cell_type": "code",
   "execution_count": 17,
   "id": "2ff19f07",
   "metadata": {},
   "outputs": [],
   "source": [
    "pred=linreg.predict(X_test)"
   ]
  },
  {
   "cell_type": "code",
   "execution_count": 18,
   "id": "750470a2",
   "metadata": {},
   "outputs": [
    {
     "data": {
      "text/plain": [
       "array([508.50321043, 492.62212893, 506.90449821, 380.94182806,\n",
       "       319.21989499, 480.18715624, 493.19190981, 319.76836801,\n",
       "       360.88513911, 328.20274267, 525.65342643, 330.6872646 ,\n",
       "       585.49040778, 313.74228617, 339.0655614 , 545.79575054,\n",
       "       534.23209689, 617.70538634, 353.56087943, 394.49539655,\n",
       "       391.31562932, 375.74646101, 267.52101584, 355.53684016,\n",
       "       435.40391522, 371.82283179, 307.61763078, 353.94646372,\n",
       "       298.45756331, 508.92854916, 564.63490346, 515.02113043,\n",
       "       412.72801806, 338.47880048, 507.37221819, 350.70305945,\n",
       "       587.05620386, 291.68294966, 361.47827438, 364.85775562,\n",
       "       357.07851409, 350.83773715, 345.62475666, 609.5406714 ,\n",
       "       370.54870306, 361.7258483 , 309.96762301, 634.54402689,\n",
       "       503.2908216 , 548.48183343, 493.26620747, 517.31859121,\n",
       "       310.1716574 , 490.80794092, 425.20508019, 569.58177989,\n",
       "       309.66368892, 307.22619528, 329.76896942, 318.22362479,\n",
       "       508.01952861, 279.52883644, 283.77796743, 484.61111953,\n",
       "       514.85770335, 332.43656385, 294.49106652, 286.38252301,\n",
       "       342.37320685, 623.99563218, 416.33392894, 267.8958203 ,\n",
       "       275.53936794, 333.42762447, 524.15241234, 369.04383325,\n",
       "       310.41702534, 628.01143297, 284.97223543, 444.05218637,\n",
       "       489.0331267 , 367.05787485, 328.79452438, 361.48997185,\n",
       "       327.19197746, 581.17902263, 490.12503423, 489.47828405,\n",
       "       365.53653141, 541.58713925, 471.29139761, 662.48293137,\n",
       "       435.83602764, 277.66839823, 558.61864021, 381.93250645,\n",
       "       306.27852351, 338.36444212, 364.38360754, 325.8942604 ,\n",
       "       501.91672334, 455.74040987, 278.8700591 , 482.19230139,\n",
       "       392.65065391, 364.94487335, 502.01376583, 524.10109528,\n",
       "       626.47867916, 669.48951535, 502.55610823, 528.69559158,\n",
       "       505.10620919, 530.13534339, 372.67113586, 360.32388328,\n",
       "       529.81420295, 363.52141346, 383.63737318, 439.31547284,\n",
       "       326.28601814, 516.31203422, 295.80084884, 517.60971528,\n",
       "       360.19482221, 330.28550522, 363.8014    , 695.78260158,\n",
       "       285.41352603, 341.96120433, 485.10456689, 477.71044102,\n",
       "       522.5007679 , 293.5061939 , 421.31717538, 324.78171901,\n",
       "       299.15999794, 355.07255525, 316.79808517, 317.76728599,\n",
       "       324.4816413 , 294.57567192, 345.11832761, 299.10755682,\n",
       "       483.97457739, 596.3896591 , 593.01082228, 289.08360901,\n",
       "       379.49674294, 378.66907017, 347.58235016, 532.92962099,\n",
       "       516.05284327, 338.8438165 , 551.79979716, 656.68396273,\n",
       "       679.68808583, 603.77423704, 345.59608557, 315.29478056,\n",
       "       357.4411018 , 318.97703333, 679.4205596 , 367.39581775,\n",
       "       533.38392393, 544.22249044, 450.51328605, 366.50843207,\n",
       "       520.85311779, 375.72456071, 346.84344556, 328.33861469,\n",
       "       330.17657065, 362.40453789, 399.59337235, 300.22465639,\n",
       "       506.0979192 , 356.35247392, 357.15892022, 363.2884489 ,\n",
       "       374.97542721, 293.37075194, 298.2682539 , 503.91174262,\n",
       "       356.79620277, 272.00956856, 492.5270058 , 339.62091553,\n",
       "       382.82120594, 628.84577497, 259.74363448, 554.02969689,\n",
       "       447.06342368, 419.88387551, 363.92718799, 431.50192706,\n",
       "       287.11905717, 519.06031287, 352.75520058, 284.16012442,\n",
       "       369.50460267, 351.98405323])"
      ]
     },
     "execution_count": 18,
     "metadata": {},
     "output_type": "execute_result"
    }
   ],
   "source": [
    "pred"
   ]
  },
  {
   "cell_type": "markdown",
   "id": "58d136be",
   "metadata": {},
   "source": [
    "### Determine the performancesb of the model using suitable metrics"
   ]
  },
  {
   "cell_type": "code",
   "execution_count": 19,
   "id": "b61b6910",
   "metadata": {},
   "outputs": [],
   "source": [
    "from sklearn.metrics import mean_squared_error,r2_score \n",
    "mse=mean_squared_error(y_test,pred)\n",
    "rmse=mse**0.5\n",
    "r2=r2_score(y_test,pred)\n"
   ]
  },
  {
   "cell_type": "code",
   "execution_count": 20,
   "id": "d96a96c0",
   "metadata": {},
   "outputs": [
    {
     "name": "stdout",
     "output_type": "stream",
     "text": [
      "Mean Squared Error(MSE): 15.976946096727882\n",
      "Root Mean Squared Error(RMSE): 3.997117223290791\n",
      "R-Squared(R2) Score: 0.9986297713881387\n"
     ]
    }
   ],
   "source": [
    "print(\"Mean Squared Error(MSE):\",mse)\n",
    "print(\"Root Mean Squared Error(RMSE):\",rmse)\n",
    "print(\"R-Squared(R2) Score:\",r2)"
   ]
  },
  {
   "cell_type": "markdown",
   "id": "032eeefd",
   "metadata": {},
   "source": [
    "### define the model"
   ]
  },
  {
   "cell_type": "code",
   "execution_count": 354,
   "id": "133a6fe0",
   "metadata": {},
   "outputs": [
    {
     "data": {
      "text/plain": [
       "RandomForestRegressor()"
      ]
     },
     "execution_count": 354,
     "metadata": {},
     "output_type": "execute_result"
    }
   ],
   "source": [
    "from sklearn.ensemble import RandomForestRegressor as rfr\n",
    "rf_model=rfr()\n",
    "rf_model.fit(X_train,y_train)"
   ]
  },
  {
   "cell_type": "code",
   "execution_count": 360,
   "id": "30e2db95",
   "metadata": {},
   "outputs": [],
   "source": [
    "feature_importances=rf_model.feature_importances_\n",
    "threshold=0.1\n",
    "important_features=X.columns[feature_importances>threshold]"
   ]
  },
  {
   "cell_type": "code",
   "execution_count": 364,
   "id": "837f608b",
   "metadata": {},
   "outputs": [],
   "source": [
    "refined_X_train=X_train[important_features]\n",
    "refined_X_test=X_test[important_features]"
   ]
  },
  {
   "cell_type": "code",
   "execution_count": 366,
   "id": "c79ae787",
   "metadata": {},
   "outputs": [
    {
     "data": {
      "text/html": [
       "<div>\n",
       "<style scoped>\n",
       "    .dataframe tbody tr th:only-of-type {\n",
       "        vertical-align: middle;\n",
       "    }\n",
       "\n",
       "    .dataframe tbody tr th {\n",
       "        vertical-align: top;\n",
       "    }\n",
       "\n",
       "    .dataframe thead th {\n",
       "        text-align: right;\n",
       "    }\n",
       "</style>\n",
       "<table border=\"1\" class=\"dataframe\">\n",
       "  <thead>\n",
       "    <tr style=\"text-align: right;\">\n",
       "      <th></th>\n",
       "      <th>High</th>\n",
       "      <th>Low</th>\n",
       "    </tr>\n",
       "  </thead>\n",
       "  <tbody>\n",
       "    <tr>\n",
       "      <th>29</th>\n",
       "      <td>317.000000</td>\n",
       "      <td>307.339996</td>\n",
       "    </tr>\n",
       "    <tr>\n",
       "      <th>280</th>\n",
       "      <td>366.959991</td>\n",
       "      <td>356.799988</td>\n",
       "    </tr>\n",
       "    <tr>\n",
       "      <th>507</th>\n",
       "      <td>378.109985</td>\n",
       "      <td>369.720001</td>\n",
       "    </tr>\n",
       "    <tr>\n",
       "      <th>706</th>\n",
       "      <td>491.149994</td>\n",
       "      <td>475.839996</td>\n",
       "    </tr>\n",
       "    <tr>\n",
       "      <th>877</th>\n",
       "      <td>519.789978</td>\n",
       "      <td>510.959991</td>\n",
       "    </tr>\n",
       "    <tr>\n",
       "      <th>...</th>\n",
       "      <td>...</td>\n",
       "      <td>...</td>\n",
       "    </tr>\n",
       "    <tr>\n",
       "      <th>106</th>\n",
       "      <td>419.119995</td>\n",
       "      <td>411.100006</td>\n",
       "    </tr>\n",
       "    <tr>\n",
       "      <th>270</th>\n",
       "      <td>356.170013</td>\n",
       "      <td>348.250000</td>\n",
       "    </tr>\n",
       "    <tr>\n",
       "      <th>860</th>\n",
       "      <td>544.640015</td>\n",
       "      <td>531.659973</td>\n",
       "    </tr>\n",
       "    <tr>\n",
       "      <th>435</th>\n",
       "      <td>285.750000</td>\n",
       "      <td>277.350006</td>\n",
       "    </tr>\n",
       "    <tr>\n",
       "      <th>102</th>\n",
       "      <td>398.380005</td>\n",
       "      <td>380.000000</td>\n",
       "    </tr>\n",
       "  </tbody>\n",
       "</table>\n",
       "<p>807 rows × 2 columns</p>\n",
       "</div>"
      ],
      "text/plain": [
       "           High         Low\n",
       "29   317.000000  307.339996\n",
       "280  366.959991  356.799988\n",
       "507  378.109985  369.720001\n",
       "706  491.149994  475.839996\n",
       "877  519.789978  510.959991\n",
       "..          ...         ...\n",
       "106  419.119995  411.100006\n",
       "270  356.170013  348.250000\n",
       "860  544.640015  531.659973\n",
       "435  285.750000  277.350006\n",
       "102  398.380005  380.000000\n",
       "\n",
       "[807 rows x 2 columns]"
      ]
     },
     "execution_count": 366,
     "metadata": {},
     "output_type": "execute_result"
    }
   ],
   "source": [
    "refined_X_train"
   ]
  },
  {
   "cell_type": "code",
   "execution_count": 369,
   "id": "af1f4856",
   "metadata": {},
   "outputs": [
    {
     "data": {
      "text/html": [
       "<div>\n",
       "<style scoped>\n",
       "    .dataframe tbody tr th:only-of-type {\n",
       "        vertical-align: middle;\n",
       "    }\n",
       "\n",
       "    .dataframe tbody tr th {\n",
       "        vertical-align: top;\n",
       "    }\n",
       "\n",
       "    .dataframe thead th {\n",
       "        text-align: right;\n",
       "    }\n",
       "</style>\n",
       "<table border=\"1\" class=\"dataframe\">\n",
       "  <thead>\n",
       "    <tr style=\"text-align: right;\">\n",
       "      <th></th>\n",
       "      <th>High</th>\n",
       "      <th>Low</th>\n",
       "    </tr>\n",
       "  </thead>\n",
       "  <tbody>\n",
       "    <tr>\n",
       "      <th>628</th>\n",
       "      <td>510.440002</td>\n",
       "      <td>498.649994</td>\n",
       "    </tr>\n",
       "    <tr>\n",
       "      <th>631</th>\n",
       "      <td>508.290009</td>\n",
       "      <td>486.679993</td>\n",
       "    </tr>\n",
       "    <tr>\n",
       "      <th>741</th>\n",
       "      <td>514.500000</td>\n",
       "      <td>499.579987</td>\n",
       "    </tr>\n",
       "    <tr>\n",
       "      <th>514</th>\n",
       "      <td>387.320007</td>\n",
       "      <td>377.899994</td>\n",
       "    </tr>\n",
       "    <tr>\n",
       "      <th>365</th>\n",
       "      <td>325.850006</td>\n",
       "      <td>314.230011</td>\n",
       "    </tr>\n",
       "    <tr>\n",
       "      <th>...</th>\n",
       "      <td>...</td>\n",
       "      <td>...</td>\n",
       "    </tr>\n",
       "    <tr>\n",
       "      <th>780</th>\n",
       "      <td>526.510010</td>\n",
       "      <td>506.589996</td>\n",
       "    </tr>\n",
       "    <tr>\n",
       "      <th>334</th>\n",
       "      <td>357.880005</td>\n",
       "      <td>348.709991</td>\n",
       "    </tr>\n",
       "    <tr>\n",
       "      <th>210</th>\n",
       "      <td>295.739990</td>\n",
       "      <td>274.720001</td>\n",
       "    </tr>\n",
       "    <tr>\n",
       "      <th>350</th>\n",
       "      <td>370.850006</td>\n",
       "      <td>363.200012</td>\n",
       "    </tr>\n",
       "    <tr>\n",
       "      <th>78</th>\n",
       "      <td>356.100006</td>\n",
       "      <td>346.709991</td>\n",
       "    </tr>\n",
       "  </tbody>\n",
       "</table>\n",
       "<p>202 rows × 2 columns</p>\n",
       "</div>"
      ],
      "text/plain": [
       "           High         Low\n",
       "628  510.440002  498.649994\n",
       "631  508.290009  486.679993\n",
       "741  514.500000  499.579987\n",
       "514  387.320007  377.899994\n",
       "365  325.850006  314.230011\n",
       "..          ...         ...\n",
       "780  526.510010  506.589996\n",
       "334  357.880005  348.709991\n",
       "210  295.739990  274.720001\n",
       "350  370.850006  363.200012\n",
       "78   356.100006  346.709991\n",
       "\n",
       "[202 rows x 2 columns]"
      ]
     },
     "execution_count": 369,
     "metadata": {},
     "output_type": "execute_result"
    }
   ],
   "source": [
    "refined_X_test"
   ]
  },
  {
   "cell_type": "code",
   "execution_count": 372,
   "id": "f20dad90",
   "metadata": {},
   "outputs": [
    {
     "name": "stdout",
     "output_type": "stream",
     "text": [
      "         Actual   Predicted\n",
      "628  509.640015  507.562899\n",
      "631  494.730011  493.518201\n",
      "741  500.859985  510.329201\n",
      "514  380.070007  384.618599\n",
      "365  315.100006  320.817301\n",
      "..          ...         ...\n",
      "780  518.020020  515.861097\n",
      "334  355.730011  352.537392\n",
      "210  275.329987  286.802203\n",
      "350  370.019989  365.789798\n",
      "78   349.730011  352.941196\n",
      "\n",
      "[202 rows x 2 columns]\n"
     ]
    }
   ],
   "source": [
    "y_pred = rf_model.predict(X_test)\n",
    "\n",
    "# Compare the predicted values with the actual values\n",
    "prediction_results = pd.DataFrame({'Actual': y_test, 'Predicted': y_pred})\n",
    "print(prediction_results)"
   ]
  },
  {
   "cell_type": "code",
   "execution_count": 374,
   "id": "8df86c4d",
   "metadata": {},
   "outputs": [
    {
     "name": "stdout",
     "output_type": "stream",
     "text": [
      "Mean Squared Error (MSE): 25.81532275589768\n",
      "Root Mean Squared Error (RMSE): 5.0808781481056675\n",
      "R-squared (R2) Score: 0.9977860040554428\n"
     ]
    }
   ],
   "source": [
    "import numpy as np\n",
    "mse = mean_squared_error(y_test, y_pred)\n",
    "rmse = np.sqrt(mse)\n",
    "r2 = r2_score(y_test, y_pred)\n",
    "\n",
    "print(\"Mean Squared Error (MSE):\", mse)\n",
    "print(\"Root Mean Squared Error (RMSE):\", rmse)\n",
    "print(\"R-squared (R2) Score:\", r2)"
   ]
  }
 ],
 "metadata": {
  "kernelspec": {
   "display_name": "Python 3 (ipykernel)",
   "language": "python",
   "name": "python3"
  },
  "language_info": {
   "codemirror_mode": {
    "name": "ipython",
    "version": 3
   },
   "file_extension": ".py",
   "mimetype": "text/x-python",
   "name": "python",
   "nbconvert_exporter": "python",
   "pygments_lexer": "ipython3",
   "version": "3.9.12"
  }
 },
 "nbformat": 4,
 "nbformat_minor": 5
}
